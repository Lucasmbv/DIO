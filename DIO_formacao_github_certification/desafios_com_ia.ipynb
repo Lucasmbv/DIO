{
 "cells": [
  {
   "cell_type": "markdown",
   "metadata": {},
   "source": [
    "# Este arquivo é resultado de um desafio proposto pela DIO no curso de Git e GitHub\n",
    "- No curso é proposta a solução de 3 desafios utilizando IA.\n",
    "- Para a solução dos desafios propostos foi utilizada a extensão do VSCode de IA chamada Cody e o ChatGPT no browser."
   ]
  },
  {
   "cell_type": "code",
   "execution_count": null,
   "metadata": {},
   "outputs": [
    {
     "name": "stdout",
     "output_type": "stream",
     "text": [
      "A primeira string é: LUCAS\n",
      "A segunda string é: MACHADO\n",
      "A string concatenada é: LUCASMACHADO\n"
     ]
    }
   ],
   "source": [
    "# DESAFIO 1 - Vamos receber dois dados diferentes e concatena-los em uma única string\n",
    "\n",
    "string1 = input(\"Digite a primeira string: \")\n",
    "string2 = input(\"Digite a segunda string: \")\n",
    "print(f\"A primeira string é: {string1}\")\n",
    "print(f\"A segunda string é: {string2}\")\n",
    "\n",
    "# Concatena as duas strings\n",
    "concatenada = string1 + string2\n",
    "print(f\"A string concatenada é: {concatenada}\")"
   ]
  },
  {
   "cell_type": "code",
   "execution_count": 3,
   "metadata": {},
   "outputs": [
    {
     "name": "stdout",
     "output_type": "stream",
     "text": [
      "A string 'Lucas' repetida 3 vezes é:\n",
      "Lucas Lucas Lucas "
     ]
    }
   ],
   "source": [
    "# DESAFIO 2 - Criar um programa que recebe uma string e um número inteiro e imprime a string repetida o número de vezes especificado pelo número inteiro na mesma linha.\n",
    "string = input(\"Digite uma string: \")\n",
    "numero = int(input(\"Digite um número inteiro: \"))\n",
    "print(f\"A string '{string}' repetida {numero} vezes é:\")\n",
    "for i in range(numero):\n",
    "  print(string, end=\" \")"
   ]
  },
  {
   "cell_type": "code",
   "execution_count": null,
   "metadata": {},
   "outputs": [
    {
     "name": "stdout",
     "output_type": "stream",
     "text": [
      "Operação inválida. Por favor, escolha uma das seguintes: +, -, * ou /.\n",
      "6 + 8 = 14\n"
     ]
    }
   ],
   "source": [
    "# DESAFIO 3 - Criar um programa que recebe dois números e a operação a ser realizada e imprime o resultado da operação\n",
    "\n",
    "# Criar função para solicitar números\n",
    "def solicitar_numero(mensagem):\n",
    "    while True:\n",
    "        try:\n",
    "            return int(input(mensagem))\n",
    "        except ValueError:\n",
    "            print(\"Por favor, digite um número válido.\")\n",
    "\n",
    "num1 = solicitar_numero(\"Digite o primeiro número: \")\n",
    "num2 = solicitar_numero(\"Digite o segundo número: \")\n",
    "\n",
    "# Solicitar apenas operações matemáticas válidas\n",
    "operacoes_validas = {\"+\", \"-\", \"*\", \"/\"}\n",
    "while True:\n",
    "    operacao = input(\"Digite a operação a ser realizada (+, -, *, /):\").strip()\n",
    "    if operacao in operacoes_validas:\n",
    "        break\n",
    "    print(\"Operação inválida. Por favor, escolha uma das seguintes: +, -, * ou /.\")\n",
    "\n",
    "\n",
    "\n",
    "match operacao:\n",
    "  case \"+\":\n",
    "    print(f\"{num1} {operacao} {num2} = {num1 + num2}\")\n",
    "  case \"-\":\n",
    "    print(f\"{num1} {operacao} {num2} = {num1 - num2}\")\n",
    "    operacao\n",
    "  case \"*\":\n",
    "    print(f\"{num1} {operacao} {num2} = {num1 * num2}\")\n",
    "  case \"/\":\n",
    "    print(f\"{num1} {operacao} {num2} = {num1 / num2}\")"
   ]
  }
 ],
 "metadata": {
  "kernelspec": {
   "display_name": "Python 3",
   "language": "python",
   "name": "python3"
  },
  "language_info": {
   "codemirror_mode": {
    "name": "ipython",
    "version": 3
   },
   "file_extension": ".py",
   "mimetype": "text/x-python",
   "name": "python",
   "nbconvert_exporter": "python",
   "pygments_lexer": "ipython3",
   "version": "3.12.2"
  }
 },
 "nbformat": 4,
 "nbformat_minor": 2
}
